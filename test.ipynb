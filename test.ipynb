{
 "cells": [
  {
   "cell_type": "code",
   "execution_count": 27,
   "metadata": {},
   "outputs": [
    {
     "ename": "ImportError",
     "evalue": "cannot import name 'calculate_real_area' from 'calculate' (c:\\Users\\ihyun\\Project\\jeju\\final_version\\calculate.py)",
     "output_type": "error",
     "traceback": [
      "\u001b[1;31m---------------------------------------------------------------------------\u001b[0m",
      "\u001b[1;31mImportError\u001b[0m                               Traceback (most recent call last)",
      "Cell \u001b[1;32mIn[27], line 1\u001b[0m\n\u001b[1;32m----> 1\u001b[0m \u001b[38;5;28;01mfrom\u001b[39;00m \u001b[38;5;21;01mcalculate\u001b[39;00m \u001b[38;5;28;01mimport\u001b[39;00m parse_collected_gsd,  calculate_real_area,calculate_production\n",
      "\u001b[1;31mImportError\u001b[0m: cannot import name 'calculate_real_area' from 'calculate' (c:\\Users\\ihyun\\Project\\jeju\\final_version\\calculate.py)"
     ]
    }
   ],
   "source": [
    "from calculate import parse_collected_gsd,  calculate_real_area,calculate_production"
   ]
  },
  {
   "cell_type": "code",
   "execution_count": 2,
   "metadata": {},
   "outputs": [
    {
     "name": "stdout",
     "output_type": "stream",
     "text": [
      "File path: dataset\\K3A_20200504045549_28203_00042683_L1R_Aux.xml, Column: 0.748, Row: 0.663\n"
     ]
    }
   ],
   "source": [
    "dataset_folder_path = 'dataset'\n",
    "results = parse_collected_gsd(dataset_folder_path)\n",
    "for result in results:\n",
    "    print(f'File path: {result[0]}, Column: {result[1]}, Row: {result[2]}')\n"
   ]
  },
  {
   "cell_type": "code",
   "execution_count": 4,
   "metadata": {},
   "outputs": [
    {
     "name": "stdout",
     "output_type": "stream",
     "text": [
      "[('dataset\\\\K3A_20200504045549_28203_00042683_L1R_Aux.xml', 0.748, 0.663)]\n"
     ]
    }
   ],
   "source": [
    "print(results)"
   ]
  },
  {
   "cell_type": "code",
   "execution_count": 6,
   "metadata": {},
   "outputs": [],
   "source": [
    "import pandas as pd\n",
    "\n",
    "# csv 파일 경로\n",
    "csv_file_path = 'prediction_left_3_result_128128.csv'\n",
    "\n",
    "# csv 파일 읽기\n",
    "df = pd.read_csv(csv_file_path, index_col=0)\n"
   ]
  },
  {
   "cell_type": "code",
   "execution_count": 7,
   "metadata": {},
   "outputs": [
    {
     "data": {
      "text/html": [
       "<div>\n",
       "<style scoped>\n",
       "    .dataframe tbody tr th:only-of-type {\n",
       "        vertical-align: middle;\n",
       "    }\n",
       "\n",
       "    .dataframe tbody tr th {\n",
       "        vertical-align: top;\n",
       "    }\n",
       "\n",
       "    .dataframe thead th {\n",
       "        text-align: right;\n",
       "    }\n",
       "</style>\n",
       "<table border=\"1\" class=\"dataframe\">\n",
       "  <thead>\n",
       "    <tr style=\"text-align: right;\">\n",
       "      <th></th>\n",
       "      <th>0</th>\n",
       "      <th>1</th>\n",
       "      <th>2</th>\n",
       "      <th>3</th>\n",
       "      <th>4</th>\n",
       "      <th>5</th>\n",
       "      <th>6</th>\n",
       "      <th>7</th>\n",
       "      <th>8</th>\n",
       "    </tr>\n",
       "  </thead>\n",
       "  <tbody>\n",
       "    <tr>\n",
       "      <th>tile_0</th>\n",
       "      <td>0</td>\n",
       "      <td>0</td>\n",
       "      <td>1529</td>\n",
       "      <td>0</td>\n",
       "      <td>0</td>\n",
       "      <td>0</td>\n",
       "      <td>0</td>\n",
       "      <td>11036</td>\n",
       "      <td>3819</td>\n",
       "    </tr>\n",
       "    <tr>\n",
       "      <th>tile_1</th>\n",
       "      <td>0</td>\n",
       "      <td>0</td>\n",
       "      <td>1432</td>\n",
       "      <td>0</td>\n",
       "      <td>0</td>\n",
       "      <td>0</td>\n",
       "      <td>0</td>\n",
       "      <td>11244</td>\n",
       "      <td>3708</td>\n",
       "    </tr>\n",
       "    <tr>\n",
       "      <th>tile_2</th>\n",
       "      <td>0</td>\n",
       "      <td>0</td>\n",
       "      <td>1491</td>\n",
       "      <td>0</td>\n",
       "      <td>0</td>\n",
       "      <td>0</td>\n",
       "      <td>0</td>\n",
       "      <td>11196</td>\n",
       "      <td>3697</td>\n",
       "    </tr>\n",
       "    <tr>\n",
       "      <th>tile_3</th>\n",
       "      <td>0</td>\n",
       "      <td>0</td>\n",
       "      <td>1473</td>\n",
       "      <td>0</td>\n",
       "      <td>0</td>\n",
       "      <td>0</td>\n",
       "      <td>0</td>\n",
       "      <td>11261</td>\n",
       "      <td>3650</td>\n",
       "    </tr>\n",
       "    <tr>\n",
       "      <th>tile_4</th>\n",
       "      <td>0</td>\n",
       "      <td>0</td>\n",
       "      <td>1444</td>\n",
       "      <td>0</td>\n",
       "      <td>0</td>\n",
       "      <td>0</td>\n",
       "      <td>0</td>\n",
       "      <td>11314</td>\n",
       "      <td>3626</td>\n",
       "    </tr>\n",
       "    <tr>\n",
       "      <th>...</th>\n",
       "      <td>...</td>\n",
       "      <td>...</td>\n",
       "      <td>...</td>\n",
       "      <td>...</td>\n",
       "      <td>...</td>\n",
       "      <td>...</td>\n",
       "      <td>...</td>\n",
       "      <td>...</td>\n",
       "      <td>...</td>\n",
       "    </tr>\n",
       "    <tr>\n",
       "      <th>tile_3157</th>\n",
       "      <td>0</td>\n",
       "      <td>0</td>\n",
       "      <td>1417</td>\n",
       "      <td>0</td>\n",
       "      <td>0</td>\n",
       "      <td>0</td>\n",
       "      <td>0</td>\n",
       "      <td>11359</td>\n",
       "      <td>3608</td>\n",
       "    </tr>\n",
       "    <tr>\n",
       "      <th>tile_3158</th>\n",
       "      <td>0</td>\n",
       "      <td>0</td>\n",
       "      <td>1424</td>\n",
       "      <td>0</td>\n",
       "      <td>0</td>\n",
       "      <td>0</td>\n",
       "      <td>0</td>\n",
       "      <td>11416</td>\n",
       "      <td>3544</td>\n",
       "    </tr>\n",
       "    <tr>\n",
       "      <th>tile_3159</th>\n",
       "      <td>0</td>\n",
       "      <td>0</td>\n",
       "      <td>1393</td>\n",
       "      <td>0</td>\n",
       "      <td>0</td>\n",
       "      <td>0</td>\n",
       "      <td>0</td>\n",
       "      <td>11513</td>\n",
       "      <td>3478</td>\n",
       "    </tr>\n",
       "    <tr>\n",
       "      <th>tile_3160</th>\n",
       "      <td>0</td>\n",
       "      <td>0</td>\n",
       "      <td>1391</td>\n",
       "      <td>0</td>\n",
       "      <td>0</td>\n",
       "      <td>0</td>\n",
       "      <td>0</td>\n",
       "      <td>11538</td>\n",
       "      <td>3455</td>\n",
       "    </tr>\n",
       "    <tr>\n",
       "      <th>tile_3161</th>\n",
       "      <td>0</td>\n",
       "      <td>0</td>\n",
       "      <td>1399</td>\n",
       "      <td>0</td>\n",
       "      <td>0</td>\n",
       "      <td>0</td>\n",
       "      <td>0</td>\n",
       "      <td>11516</td>\n",
       "      <td>3469</td>\n",
       "    </tr>\n",
       "  </tbody>\n",
       "</table>\n",
       "<p>3162 rows × 9 columns</p>\n",
       "</div>"
      ],
      "text/plain": [
       "           0  1     2  3  4  5  6      7     8\n",
       "tile_0     0  0  1529  0  0  0  0  11036  3819\n",
       "tile_1     0  0  1432  0  0  0  0  11244  3708\n",
       "tile_2     0  0  1491  0  0  0  0  11196  3697\n",
       "tile_3     0  0  1473  0  0  0  0  11261  3650\n",
       "tile_4     0  0  1444  0  0  0  0  11314  3626\n",
       "...       .. ..   ... .. .. .. ..    ...   ...\n",
       "tile_3157  0  0  1417  0  0  0  0  11359  3608\n",
       "tile_3158  0  0  1424  0  0  0  0  11416  3544\n",
       "tile_3159  0  0  1393  0  0  0  0  11513  3478\n",
       "tile_3160  0  0  1391  0  0  0  0  11538  3455\n",
       "tile_3161  0  0  1399  0  0  0  0  11516  3469\n",
       "\n",
       "[3162 rows x 9 columns]"
      ]
     },
     "execution_count": 7,
     "metadata": {},
     "output_type": "execute_result"
    }
   ],
   "source": [
    "df"
   ]
  },
  {
   "cell_type": "code",
   "execution_count": 22,
   "metadata": {},
   "outputs": [
    {
     "name": "stdout",
     "output_type": "stream",
     "text": [
      "     0    1             2    3              4    5    6    7    8\n",
      "0  0.0  0.0  7.633625e+06  0.0  225963.406469  0.0  0.0  0.0  0.0\n"
     ]
    }
   ],
   "source": [
    "product_dict = {\n",
    "    '0': 0,\n",
    "    '1': 6.960,\n",
    "    '2': 3.399,\n",
    "    '3': 5.885,\n",
    "    '4': 1.400,\n",
    "    '5': 5.705,\n",
    "    '6': 0,\n",
    "    '7': 0,\n",
    "    '8': 0\n",
    "}\n",
    "\n",
    "csv_file_path = 'prediction_left_3_result_128128.csv'\n",
    "dataset_folder_path = 'dataset'\n",
    "\n",
    "production_df = calculate_production(csv_file_path, dataset_folder_path, product_dict)\n",
    "print(production_df)\n"
   ]
  },
  {
   "cell_type": "markdown",
   "metadata": {},
   "source": []
  },
  {
   "cell_type": "markdown",
   "metadata": {},
   "source": []
  },
  {
   "cell_type": "markdown",
   "metadata": {},
   "source": []
  },
  {
   "cell_type": "code",
   "execution_count": null,
   "metadata": {},
   "outputs": [],
   "source": []
  }
 ],
 "metadata": {
  "kernelspec": {
   "display_name": "jeju",
   "language": "python",
   "name": "python3"
  },
  "language_info": {
   "codemirror_mode": {
    "name": "ipython",
    "version": 3
   },
   "file_extension": ".py",
   "mimetype": "text/x-python",
   "name": "python",
   "nbconvert_exporter": "python",
   "pygments_lexer": "ipython3",
   "version": "3.10.11"
  }
 },
 "nbformat": 4,
 "nbformat_minor": 2
}
